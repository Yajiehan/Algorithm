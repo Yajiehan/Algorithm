{
  "nbformat": 4,
  "nbformat_minor": 0,
  "metadata": {
    "colab": {
      "provenance": [],
      "authorship_tag": "ABX9TyPhn9XJk14iFql79ykSEm/m",
      "include_colab_link": true
    },
    "kernelspec": {
      "name": "python3",
      "display_name": "Python 3"
    },
    "language_info": {
      "name": "python"
    }
  },
  "cells": [
    {
      "cell_type": "markdown",
      "metadata": {
        "id": "view-in-github",
        "colab_type": "text"
      },
      "source": [
        "<a href=\"https://colab.research.google.com/github/Yajiehan/Algorithm/blob/main/DFS_Maze.ipynb\" target=\"_parent\"><img src=\"https://colab.research.google.com/assets/colab-badge.svg\" alt=\"Open In Colab\"/></a>"
      ]
    },
    {
      "cell_type": "code",
      "execution_count": 1,
      "metadata": {
        "id": "8oN1sCoOnW0W"
      },
      "outputs": [],
      "source": [
        "def hasPath(maze, start, destination):\n",
        "    # Nested function for depth-first search (DFS)\n",
        "    def dfs(x, y):\n",
        "        # If the current position is the destination, we found a path, return True\n",
        "        if [x, y] == destination:\n",
        "            return True\n",
        "        # If the current position is already visited, return False\n",
        "        if visited[x][y]:\n",
        "            return False\n",
        "\n",
        "        # Mark the current position as visited\n",
        "        visited[x][y] = True\n",
        "\n",
        "        # Explore all possible directions: right, left, down, up\n",
        "        for dx, dy in directions:\n",
        "            nx, ny = x, y\n",
        "            # Move in a straight line until we hit an obstacle (1) or reach the boundary\n",
        "            while 0 <= nx + dx < len(maze) and 0 <= ny + dy < len(maze[0]) and maze[nx + dx][ny + dy] != 1:\n",
        "                nx += dx\n",
        "                ny += dy\n",
        "\n",
        "            # Recursively call the DFS for the new position\n",
        "            if dfs(nx, ny):\n",
        "                return True\n",
        "\n",
        "        # If none of the directions lead to a valid path, return False\n",
        "        return False\n",
        "\n",
        "    # Check for empty maze or maze with no columns\n",
        "    if not maze or not maze[0]:\n",
        "        return False\n",
        "\n",
        "    # Possible directions: right, left, down, up\n",
        "    directions = [(0, 1), (0, -1), (1, 0), (-1, 0)]\n",
        "\n",
        "    # Initialize the visited matrix with False values\n",
        "    visited = [[False for _ in range(len(maze[0]))] for _ in range(len(maze))]\n",
        "\n",
        "    # Start the DFS from the given start position\n",
        "    return dfs(start[0], start[1])"
      ]
    },
    {
      "cell_type": "code",
      "source": [
        "# Test data 1\n",
        "maze = [\n",
        "    [0, 0, 1, 0, 0],\n",
        "    [0, 0, 0, 0, 0],\n",
        "    [0, 0, 0, 1, 0],\n",
        "    [1, 1, 0, 1, 1],\n",
        "    [0, 0, 0, 0, 0]\n",
        "]\n",
        "start = [0, 4]\n",
        "destination = [4, 4]\n",
        "output = hasPath(maze, start, destination)\n",
        "print(output)  # Output: True (There is a path from [0, 4] to [4, 4])\n",
        "\n",
        "# Test data 2\n",
        "maze = [\n",
        "    [0, 0, 1, 0, 0],\n",
        "    [0, 0, 0, 0, 0],\n",
        "    [0, 0, 0, 1, 0 ],\n",
        "    [1, 1, 0, 1, 1],\n",
        "    [0, 0, 0, 0, 0]\n",
        "]\n",
        "start = [0, 4]\n",
        "destination = [3, 2]\n",
        "output = hasPath(maze, start, destination)\n",
        "print(output)  # Output: False (There is no path from [0, 4] to [3, 2])\n",
        "\n",
        "# Test data 3\n",
        "maze = [\n",
        "    [0, 0, 0, 0, 0],\n",
        "    [1, 1, 0, 0, 1],\n",
        "    [0, 0, 0, 0, 0],\n",
        "    [0, 1, 0, 0, 1],\n",
        "    [0, 1, 0, 0, 0]\n",
        "]\n",
        "start = [4, 3]\n",
        "destination = [0, 1]\n",
        "output = hasPath(maze, start, destination)\n",
        "print(output)  # Output: False (There is no path from [4, 3] to [0, 1])"
      ],
      "metadata": {
        "colab": {
          "base_uri": "https://localhost:8080/"
        },
        "id": "2cY-xfp0nnYl",
        "outputId": "e62c97f0-1b55-407a-d504-b350647d76e3"
      },
      "execution_count": 2,
      "outputs": [
        {
          "output_type": "stream",
          "name": "stdout",
          "text": [
            "True\n",
            "False\n",
            "False\n"
          ]
        }
      ]
    }
  ]
}